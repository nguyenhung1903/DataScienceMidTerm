{
 "cells": [
  {
   "cell_type": "markdown",
   "metadata": {},
   "source": [
    "# barplot example\n",
    "## barplot\n",
    "Create a barplot with the barplot() method. The barplot plot below shows the survivors of the titanic crash based on category. You’ll see these bar charts go down as the ship was sinking :)\n",
    "\n",
    "The palette parameter defines the colors to be used, currently ‘hls’ is used but any palette is possible."
   ]
  },
  {
   "cell_type": "code",
   "execution_count": 1,
   "metadata": {},
   "outputs": [
    {
     "name": "stdout",
     "output_type": "stream",
     "text": [
      "   survived  pclass     sex   age  sibsp  parch     fare embarked  class  \\\n",
      "0         0       3    male  22.0      1      0   7.2500        S  Third   \n",
      "1         1       1  female  38.0      1      0  71.2833        C  First   \n",
      "2         1       3  female  26.0      0      0   7.9250        S  Third   \n",
      "3         1       1  female  35.0      1      0  53.1000        S  First   \n",
      "4         0       3    male  35.0      0      0   8.0500        S  Third   \n",
      "\n",
      "     who  adult_male deck  embark_town alive  alone  \n",
      "0    man        True  NaN  Southampton    no  False  \n",
      "1  woman       False    C    Cherbourg   yes  False  \n",
      "2  woman       False  NaN  Southampton   yes   True  \n",
      "3  woman       False    C  Southampton   yes  False  \n",
      "4    man        True  NaN  Southampton    no   True  \n",
      "sex     class \n",
      "female  First     0.968085\n",
      "        Second    0.921053\n",
      "        Third     0.500000\n",
      "male    First     0.368852\n",
      "        Second    0.157407\n",
      "        Third     0.135447\n",
      "Name: survived, dtype: float64\n",
      "sex     class \n",
      "female  First     0.176716\n",
      "        Second    0.271448\n",
      "        Third     0.501745\n",
      "male    First     0.484484\n",
      "        Second    0.365882\n",
      "        Third     0.342694\n",
      "Name: survived, dtype: float64\n"
     ]
    },
    {
     "name": "stderr",
     "output_type": "stream",
     "text": [
      "<ipython-input-1-58058a319ad7>:13: FutureWarning: \n",
      "\n",
      "The `ci` parameter is deprecated. Use `errorbar='sd'` for the same effect.\n",
      "\n",
      "  sns.barplot(x = 'sex', y = 'survived', hue = 'class', data = titanic,\n",
      "<ipython-input-1-58058a319ad7>:22: FutureWarning: The default value of numeric_only in DataFrameGroupBy.mean is deprecated. In a future version, numeric_only will default to False. Either specify numeric_only or select only columns which should be valid for the function.\n",
      "  print(titanic.groupby(['sex', 'class']).mean()['survived'])\n",
      "<ipython-input-1-58058a319ad7>:23: FutureWarning: The default value of numeric_only in DataFrameGroupBy.std is deprecated. In a future version, numeric_only will default to False. Either specify numeric_only or select only columns which should be valid for the function.\n",
      "  print(titanic.groupby(['sex', 'class']).std()['survived'])\n"
     ]
    },
    {
     "data": {
      "image/png": "[encoded data removed]",
      "text/plain": [
       "<Figure size 432x288 with 1 Axes>"
      ]
     },
     "metadata": {
      "needs_background": "light"
     },
     "output_type": "display_data"
    }
   ],
   "source": [
    "import numpy as np\n",
    "import pandas as pd\n",
    "import matplotlib.pyplot as plt\n",
    "import seaborn as sns\n",
    " \n",
    "sns.set_context('paper')\n",
    "\n",
    "# load dataset\n",
    "titanic = sns.load_dataset('titanic')\n",
    "print(titanic.head())\n",
    "\n",
    "# create plot\n",
    "sns.barplot(x = 'sex', y = 'survived', hue = 'class', data = titanic,\n",
    "            palette = 'hls',\n",
    "            order = ['male', 'female'],  \n",
    "            capsize = 0.05,             \n",
    "            saturation = 8,             \n",
    "            errcolor = 'gray', errwidth = 2,  \n",
    "            ci = 'sd'   \n",
    "            )\n",
    "\n",
    "print(titanic.groupby(['sex', 'class']).mean()['survived'])\n",
    "print(titanic.groupby(['sex', 'class']).std()['survived'])\n",
    "\n",
    "plt.show()"
   ]
  },
  {
   "cell_type": "markdown",
   "metadata": {},
   "source": [
    "# barplot horizontal\n",
    "The barplot can be a horizontal plot with the method barplot(). In the example below two bar plots are overlapping, showing the percentage as part of total crashes."
   ]
  },
  {
   "cell_type": "code",
   "execution_count": 2,
   "metadata": {},
   "outputs": [
    {
     "data": {
      "image/png": "[encoded data removed]",
      "text/plain": [
       "<Figure size 432x1080 with 1 Axes>"
      ]
     },
     "metadata": {
      "needs_background": "light"
     },
     "output_type": "display_data"
    }
   ],
   "source": [
    "import numpy as np\n",
    "import pandas as pd\n",
    "import matplotlib.pyplot as plt\n",
    "import seaborn as sns\n",
    " \n",
    "sns.set_context('paper')\n",
    "\n",
    "crashes = sns.load_dataset('car_crashes').sort_values('total', ascending = False)\n",
    "f, ax = plt.subplots(figsize = (6,15))\n",
    "sns.set_color_codes('pastel')\n",
    "sns.barplot(x = 'total', y = 'abbrev', data = crashes,\n",
    "            label = 'Total', color = 'b', edgecolor = 'w')\n",
    "sns.set_color_codes('muted')\n",
    "sns.barplot(x = 'alcohol', y = 'abbrev', data = crashes,\n",
    "            label = 'Alcohol-involved', color = 'b', edgecolor = 'w')\n",
    "ax.legend(ncol = 2, loc = 'lower right')\n",
    "sns.despine(left = True, bottom = True)\n",
    "plt.show()"
   ]
  },
  {
   "cell_type": "markdown",
   "metadata": {},
   "source": [
    "## barplot tips\n",
    "The barplot tips plot below uses the tips data set. It shows the number of tips received based on gender. Its uses the blues palette, which has variations of the color blue."
   ]
  },
  {
   "cell_type": "code",
   "execution_count": 3,
   "metadata": {},
   "outputs": [
    {
     "name": "stderr",
     "output_type": "stream",
     "text": [
      "<ipython-input-3-6e9609267048>:11: FutureWarning: The default value of numeric_only in DataFrameGroupBy.mean is deprecated. In a future version, numeric_only will default to False. Either specify numeric_only or select only columns which should be valid for the function.\n",
      "  tips.groupby(['day','sex']).mean()\n"
     ]
    },
    {
     "data": {
      "image/png": "[encoded data removed]",
      "text/plain": [
       "<Figure size 432x288 with 1 Axes>"
      ]
     },
     "metadata": {
      "needs_background": "light"
     },
     "output_type": "display_data"
    }
   ],
   "source": [
    "import numpy as np\n",
    "import pandas as pd\n",
    "import matplotlib.pyplot as plt\n",
    "import seaborn as sns\n",
    " \n",
    "sns.set_context('paper')\n",
    "\n",
    "tips = sns.load_dataset('tips')\n",
    "sns.barplot(x = 'day', y = 'total_bill', hue = 'sex', data = tips,\n",
    "            palette = 'Blues', edgecolor = 'w')\n",
    "tips.groupby(['day','sex']).mean()\n",
    "\n",
    "plt.show()\n",
    "\n",
    "## Biểu đồ này thể hiện tổng hóa đơn trung bình theo ngày và giới tính.\n",
    "## Từ biểu đồ, chúng ta có thể thấy rằng hóa đơn trung bình của nam giới cao hơn so với nữ giới vào cuối tuần.\n",
    "## Điều này có thể là do việc ăn uống nhiều hơn vào cuối tuần hoặc do việc ăn uống nhiều hơn vào cuối tuần.\n",
    "## Barplot cho thấy hóa đơn trung bình của nam giới vào cuối tuần cao hơn so với nữ giới."
   ]
  },
  {
   "cell_type": "markdown",
   "metadata": {},
   "source": [
    "## countplot\n",
    "The countplot plot can be thought of as a histogram across a categorical variable.\n",
    "The example below demonstrates the countplot.\n",
    "\n"
   ]
  },
  {
   "cell_type": "code",
   "execution_count": 5,
   "metadata": {},
   "outputs": [
    {
     "name": "stdout",
     "output_type": "stream",
     "text": [
      "   survived  pclass     sex   age  sibsp  parch     fare embarked  class  \\\n",
      "0         0       3    male  22.0      1      0   7.2500        S  Third   \n",
      "1         1       1  female  38.0      1      0  71.2833        C  First   \n",
      "2         1       3  female  26.0      0      0   7.9250        S  Third   \n",
      "3         1       1  female  35.0      1      0  53.1000        S  First   \n",
      "4         0       3    male  35.0      0      0   8.0500        S  Third   \n",
      "\n",
      "     who  adult_male deck  embark_town alive  alone  \n",
      "0    man        True  NaN  Southampton    no  False  \n",
      "1  woman       False    C    Cherbourg   yes  False  \n",
      "2  woman       False  NaN  Southampton   yes   True  \n",
      "3  woman       False    C  Southampton   yes  False  \n",
      "4    man        True  NaN  Southampton    no   True  \n"
     ]
    },
    {
     "data": {
      "image/png": "[encoded data removed]",
      "text/plain": [
       "<Figure size 432x288 with 1 Axes>"
      ]
     },
     "metadata": {
      "needs_background": "light"
     },
     "output_type": "display_data"
    }
   ],
   "source": [
    "import numpy as np\n",
    "import pandas as pd\n",
    "import matplotlib.pyplot as plt\n",
    "import seaborn as sns\n",
    " \n",
    "sns.set_context('paper')\n",
    "\n",
    "# load dataset\n",
    "titanic = sns.load_dataset('titanic')\n",
    "print(titanic.head())\n",
    "\n",
    "# create plot\n",
    "sns.countplot(x = 'class', hue = 'who', data = titanic, palette = 'magma')\n",
    "plt.title('Survivors')\n",
    "plt.show()"
   ]
  }
 ],
 "metadata": {
  "kernelspec": {
   "display_name": "Python 3",
   "language": "python",
   "name": "python3"
  },
  "language_info": {
   "codemirror_mode": {
    "name": "ipython",
    "version": 3
   },
   "file_extension": ".py",
   "mimetype": "text/x-python",
   "name": "python",
   "nbconvert_exporter": "python",
   "pygments_lexer": "ipython3",
   "version": "3.9.0"
  }
 },
 "nbformat": 4,
 "nbformat_minor": 2
}
