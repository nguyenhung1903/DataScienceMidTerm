{
 "cells": [
  {
   "cell_type": "markdown",
   "metadata": {},
   "source": [
    "# BT 1"
   ]
  },
  {
   "cell_type": "code",
   "execution_count": 6,
   "metadata": {},
   "outputs": [
    {
     "name": "stdout",
     "output_type": "stream",
     "text": [
      "/mnt/c/Users/nguyenhung1903/Desktop/Data Science/Seaborn_data_EDA\n"
     ]
    }
   ],
   "source": [
    "!pwd"
   ]
  },
  {
   "cell_type": "code",
   "execution_count": 101,
   "metadata": {},
   "outputs": [],
   "source": [
    "data = []\n",
    "for line in open(\"EDA/state.csv\", \"r\"):\n",
    "    data.append(line.strip().split(\",\"))"
   ]
  },
  {
   "cell_type": "code",
   "execution_count": 102,
   "metadata": {},
   "outputs": [
    {
     "data": {
      "text/plain": [
       "[['State', 'Population', 'Murder.Rate', 'Abbreviation'],\n",
       " ['Alabama', '4779736', '5.7', 'AL'],\n",
       " ['Alaska', '710231', '5.6', 'AK'],\n",
       " ['Arizona', '6392017', '4.7', 'AZ'],\n",
       " ['Arkansas', '2915918', '5.6', 'AR'],\n",
       " ['California', '37253956', '4.4', 'CA'],\n",
       " ['Colorado', '5029196', '2.8', 'CO'],\n",
       " ['Connecticut', '3574097', '2.4', 'CT'],\n",
       " ['Delaware', '897934', '5.8', 'DE'],\n",
       " ['Florida', '18801310', '5.8', 'FL'],\n",
       " ['Georgia', '9687653', '5.7', 'GA'],\n",
       " ['Hawaii', '1360301', '1.8', 'HI'],\n",
       " ['Idaho', '1567582', '2', 'ID'],\n",
       " ['Illinois', '12830632', '5.3', 'IL'],\n",
       " ['Indiana', '6483802', '5', 'IN'],\n",
       " ['Iowa', '3046355', '1.9', 'IA'],\n",
       " ['Kansas', '2853118', '3.1', 'KS'],\n",
       " ['Kentucky', '4339367', '3.6', 'KY'],\n",
       " ['Louisiana', '4533372', '10.3', 'LA'],\n",
       " ['Maine', '1328361', '1.6', 'ME'],\n",
       " ['Maryland', '5773552', '6.1', 'MD'],\n",
       " ['Massachusetts', '6547629', '2', 'MA'],\n",
       " ['Michigan', '9883640', '5.4', 'MI'],\n",
       " ['Minnesota', '5303925', '1.6', 'MN'],\n",
       " ['Mississippi', '2967297', '8.6', 'MS'],\n",
       " ['Missouri', '5988927', '6.6', 'MO'],\n",
       " ['Montana', '989415', '3.6', 'MT'],\n",
       " ['Nebraska', '1826341', '2.9', 'NE'],\n",
       " ['Nevada', '2700551', '6', 'NV'],\n",
       " ['New Hampshire', '1316470', '0.9', 'NH'],\n",
       " ['New Jersey', '8791894', '3.9', 'NJ'],\n",
       " ['New Mexico', '2059179', '4.8', 'NM'],\n",
       " ['New York', '19378102', '3.1', 'NY'],\n",
       " ['North Carolina', '9535483', '5.1', 'NC'],\n",
       " ['North Dakota', '672591', '3', 'ND'],\n",
       " ['Ohio', '11536504', '4', 'OH'],\n",
       " ['Oklahoma', '3751351', '4.5', 'OK'],\n",
       " ['Oregon', '3831074', '2', 'OR'],\n",
       " ['Pennsylvania', '12702379', '4.8', 'PA'],\n",
       " ['Rhode Island', '1052567', '2.4', 'RI'],\n",
       " ['South Carolina', '4625364', '6.4', 'SC'],\n",
       " ['South Dakota', '814180', '2.3', 'SD'],\n",
       " ['Tennessee', '6346105', '5.7', 'TN'],\n",
       " ['Texas', '25145561', '4.4', 'TX'],\n",
       " ['Utah', '2763885', '2.3', 'UT'],\n",
       " ['Vermont', '625741', '1.6', 'VT'],\n",
       " ['Virginia', '8001024', '4.1', 'VA'],\n",
       " ['Washington', '6724540', '2.5', 'WA'],\n",
       " ['West Virginia', '1852994', '4', 'WV'],\n",
       " ['Wisconsin', '5686986', '2.9', 'WI'],\n",
       " ['Wyoming', '563626', '2.7', 'WY']]"
      ]
     },
     "execution_count": 102,
     "metadata": {},
     "output_type": "execute_result"
    }
   ],
   "source": [
    "data"
   ]
  },
  {
   "cell_type": "code",
   "execution_count": 103,
   "metadata": {},
   "outputs": [],
   "source": [
    "data = data[1:]"
   ]
  },
  {
   "cell_type": "code",
   "execution_count": 104,
   "metadata": {},
   "outputs": [
    {
     "data": {
      "text/plain": [
       "[['Alabama', '4779736', '5.7', 'AL'],\n",
       " ['Alaska', '710231', '5.6', 'AK'],\n",
       " ['Arizona', '6392017', '4.7', 'AZ'],\n",
       " ['Arkansas', '2915918', '5.6', 'AR'],\n",
       " ['California', '37253956', '4.4', 'CA'],\n",
       " ['Colorado', '5029196', '2.8', 'CO'],\n",
       " ['Connecticut', '3574097', '2.4', 'CT'],\n",
       " ['Delaware', '897934', '5.8', 'DE'],\n",
       " ['Florida', '18801310', '5.8', 'FL'],\n",
       " ['Georgia', '9687653', '5.7', 'GA'],\n",
       " ['Hawaii', '1360301', '1.8', 'HI'],\n",
       " ['Idaho', '1567582', '2', 'ID'],\n",
       " ['Illinois', '12830632', '5.3', 'IL'],\n",
       " ['Indiana', '6483802', '5', 'IN'],\n",
       " ['Iowa', '3046355', '1.9', 'IA'],\n",
       " ['Kansas', '2853118', '3.1', 'KS'],\n",
       " ['Kentucky', '4339367', '3.6', 'KY'],\n",
       " ['Louisiana', '4533372', '10.3', 'LA'],\n",
       " ['Maine', '1328361', '1.6', 'ME'],\n",
       " ['Maryland', '5773552', '6.1', 'MD'],\n",
       " ['Massachusetts', '6547629', '2', 'MA'],\n",
       " ['Michigan', '9883640', '5.4', 'MI'],\n",
       " ['Minnesota', '5303925', '1.6', 'MN'],\n",
       " ['Mississippi', '2967297', '8.6', 'MS'],\n",
       " ['Missouri', '5988927', '6.6', 'MO'],\n",
       " ['Montana', '989415', '3.6', 'MT'],\n",
       " ['Nebraska', '1826341', '2.9', 'NE'],\n",
       " ['Nevada', '2700551', '6', 'NV'],\n",
       " ['New Hampshire', '1316470', '0.9', 'NH'],\n",
       " ['New Jersey', '8791894', '3.9', 'NJ'],\n",
       " ['New Mexico', '2059179', '4.8', 'NM'],\n",
       " ['New York', '19378102', '3.1', 'NY'],\n",
       " ['North Carolina', '9535483', '5.1', 'NC'],\n",
       " ['North Dakota', '672591', '3', 'ND'],\n",
       " ['Ohio', '11536504', '4', 'OH'],\n",
       " ['Oklahoma', '3751351', '4.5', 'OK'],\n",
       " ['Oregon', '3831074', '2', 'OR'],\n",
       " ['Pennsylvania', '12702379', '4.8', 'PA'],\n",
       " ['Rhode Island', '1052567', '2.4', 'RI'],\n",
       " ['South Carolina', '4625364', '6.4', 'SC'],\n",
       " ['South Dakota', '814180', '2.3', 'SD'],\n",
       " ['Tennessee', '6346105', '5.7', 'TN'],\n",
       " ['Texas', '25145561', '4.4', 'TX'],\n",
       " ['Utah', '2763885', '2.3', 'UT'],\n",
       " ['Vermont', '625741', '1.6', 'VT'],\n",
       " ['Virginia', '8001024', '4.1', 'VA'],\n",
       " ['Washington', '6724540', '2.5', 'WA'],\n",
       " ['West Virginia', '1852994', '4', 'WV'],\n",
       " ['Wisconsin', '5686986', '2.9', 'WI'],\n",
       " ['Wyoming', '563626', '2.7', 'WY']]"
      ]
     },
     "execution_count": 104,
     "metadata": {},
     "output_type": "execute_result"
    }
   ],
   "source": [
    "data"
   ]
  },
  {
   "cell_type": "code",
   "execution_count": 105,
   "metadata": {},
   "outputs": [
    {
     "data": {
      "text/plain": [
       "('State', 'Population', 'Murder.Rate', 'Abbreviation')"
      ]
     },
     "execution_count": 105,
     "metadata": {},
     "output_type": "execute_result"
    }
   ],
   "source": [
    "'State', 'Population', 'Murder.Rate', 'Abbreviation'"
   ]
  },
  {
   "cell_type": "code",
   "execution_count": 120,
   "metadata": {},
   "outputs": [],
   "source": [
    "States = [ data[i][0] for i in range(len(data))]\n",
    "Population = [ int(data[i][1]) for i in range(len(data))]\n",
    "MurderRate = [ float(data[i][2]) for i in range(len(data))]\n",
    "Abbreviation = [ data[i][3] for i in range(len(data))]"
   ]
  },
  {
   "cell_type": "markdown",
   "metadata": {},
   "source": [
    "### Mean"
   ]
  },
  {
   "cell_type": "code",
   "execution_count": 121,
   "metadata": {},
   "outputs": [],
   "source": [
    "def Mean(arr):\n",
    "    return sum(arr)/len(arr)"
   ]
  },
  {
   "cell_type": "code",
   "execution_count": 122,
   "metadata": {},
   "outputs": [
    {
     "name": "stdout",
     "output_type": "stream",
     "text": [
      "Mean: 4.066\n"
     ]
    }
   ],
   "source": [
    "print(f\"Mean: {Mean(MurderRate)}\")"
   ]
  },
  {
   "cell_type": "code",
   "execution_count": 123,
   "metadata": {},
   "outputs": [
    {
     "name": "stdout",
     "output_type": "stream",
     "text": [
      "4.066\n"
     ]
    }
   ],
   "source": [
    "import numpy as np\n",
    "print(np.mean(MurderRate))"
   ]
  },
  {
   "cell_type": "markdown",
   "metadata": {},
   "source": [
    "### Trimmed Mean"
   ]
  },
  {
   "cell_type": "code",
   "execution_count": 124,
   "metadata": {},
   "outputs": [],
   "source": [
    "def Trimmed_mean(arr, p=0.1):\n",
    "    N = len(arr)\n",
    "    p = int(round(N * p))\n",
    "    return sum(arr[p + 1: N - p]) / (N - 2 * p)"
   ]
  },
  {
   "cell_type": "code",
   "execution_count": 125,
   "metadata": {},
   "outputs": [
    {
     "name": "stdout",
     "output_type": "stream",
     "text": [
      "Trimmed_mean: 3.9575000000000005\n"
     ]
    }
   ],
   "source": [
    "print(f\"Trimmed_mean: {Trimmed_mean(MurderRate, 0.1)}\")"
   ]
  },
  {
   "cell_type": "code",
   "execution_count": 126,
   "metadata": {},
   "outputs": [
    {
     "data": {
      "text/plain": [
       "3.9450000000000003"
      ]
     },
     "execution_count": 126,
     "metadata": {},
     "output_type": "execute_result"
    }
   ],
   "source": [
    "from scipy import stats\n",
    "stats.trim_mean(MurderRate, 0.1) # Trim 10% at both ends"
   ]
  },
  {
   "cell_type": "markdown",
   "metadata": {},
   "source": [
    "### Weighted mean"
   ]
  },
  {
   "cell_type": "code",
   "execution_count": 127,
   "metadata": {},
   "outputs": [],
   "source": [
    "def Weighted_mean(X, W):\n",
    "    return sum([w * x for w,x in zip(X, W)]) / sum(W)"
   ]
  },
  {
   "cell_type": "code",
   "execution_count": 134,
   "metadata": {},
   "outputs": [
    {
     "name": "stdout",
     "output_type": "stream",
     "text": [
      "4.445833981123394\n"
     ]
    }
   ],
   "source": [
    "print(Weighted_mean(X = MurderRate, W = Population))"
   ]
  },
  {
   "cell_type": "code",
   "execution_count": 129,
   "metadata": {},
   "outputs": [
    {
     "name": "stdout",
     "output_type": "stream",
     "text": [
      "4.445833981123393\n"
     ]
    }
   ],
   "source": [
    "print(np.average(MurderRate, weights=Population))\n"
   ]
  },
  {
   "cell_type": "code",
   "execution_count": 131,
   "metadata": {},
   "outputs": [
    {
     "name": "stdout",
     "output_type": "stream",
     "text": [
      "Collecting wquantiles\n",
      "  Obtaining dependency information for wquantiles from https://files.pythonhosted.org/packages/f7/75/3cce30508bf46121b7cabce57b9cacbf8d935fa555cb3c5fca43f8dd0414/wquantiles-0.6-py3-none-any.whl.metadata\n",
      "  Downloading wquantiles-0.6-py3-none-any.whl.metadata (1.1 kB)\n",
      "Requirement already satisfied: numpy>=1.18 in /home/nguyenhung1903/miniconda3/envs/dev/lib/python3.9/site-packages (from wquantiles) (1.23.0)\n",
      "Downloading wquantiles-0.6-py3-none-any.whl (3.3 kB)\n",
      "Installing collected packages: wquantiles\n",
      "Successfully installed wquantiles-0.6\n"
     ]
    }
   ],
   "source": [
    "!pip install wquantiles"
   ]
  },
  {
   "cell_type": "code",
   "execution_count": 133,
   "metadata": {},
   "outputs": [
    {
     "name": "stdout",
     "output_type": "stream",
     "text": [
      "4.4\n"
     ]
    }
   ],
   "source": [
    "import wquantiles\n",
    "print(wquantiles.median(np.array(MurderRate), weights=np.array(Population)))"
   ]
  },
  {
   "cell_type": "markdown",
   "metadata": {},
   "source": [
    "### Median"
   ]
  },
  {
   "cell_type": "code",
   "execution_count": 115,
   "metadata": {},
   "outputs": [],
   "source": [
    "def Median(arr):\n",
    "    arr.sort()\n",
    "    N = len(arr)\n",
    "    return (arr[N//2] + arr[N//2 - 1])/2 if N % 2 == 0 else arr[N//2]"
   ]
  },
  {
   "cell_type": "code",
   "execution_count": 116,
   "metadata": {},
   "outputs": [
    {
     "name": "stdout",
     "output_type": "stream",
     "text": [
      "Median: 4.0\n"
     ]
    }
   ],
   "source": [
    "print(f\"Median: {Median(MurderRate)}\")"
   ]
  },
  {
   "cell_type": "code",
   "execution_count": 117,
   "metadata": {},
   "outputs": [
    {
     "data": {
      "text/plain": [
       "4.0"
      ]
     },
     "execution_count": 117,
     "metadata": {},
     "output_type": "execute_result"
    }
   ],
   "source": [
    "np.median(MurderRate)"
   ]
  },
  {
   "cell_type": "markdown",
   "metadata": {},
   "source": [
    "# BT2"
   ]
  },
  {
   "cell_type": "code",
   "execution_count": 135,
   "metadata": {},
   "outputs": [
    {
     "name": "stdout",
     "output_type": "stream",
     "text": [
      "MAD: 1.5526400000000005\n"
     ]
    }
   ],
   "source": [
    "# Độ lệch tuyệt đối trung bình: là GTTB của độ lệch tuyệt đối\n",
    "# requested by the mean\n",
    "\n",
    "def MAD(arr):\n",
    "    return Mean([abs(x - Mean(arr)) for x in arr])\n",
    "\n",
    "print(f\"MAD: {MAD(MurderRate)}\")"
   ]
  },
  {
   "cell_type": "code",
   "execution_count": 136,
   "metadata": {},
   "outputs": [
    {
     "name": "stdout",
     "output_type": "stream",
     "text": [
      "Variance: 3.5966440000000004\n"
     ]
    }
   ],
   "source": [
    "# Phương sai: là GTTB của độ lệch bình phương\n",
    "\n",
    "def Variance(arr):\n",
    "    return Mean([(x - Mean(arr))**2 for x in arr])\n",
    "\n",
    "print(f\"Variance: {Variance(MurderRate)}\")"
   ]
  },
  {
   "cell_type": "code",
   "execution_count": 137,
   "metadata": {},
   "outputs": [],
   "source": [
    "def Variance2(arr):\n",
    "    return sum([(x - Mean(arr))**2 for x in arr])/len(arr)"
   ]
  },
  {
   "cell_type": "code",
   "execution_count": 138,
   "metadata": {},
   "outputs": [
    {
     "name": "stdout",
     "output_type": "stream",
     "text": [
      "Variance: 3.5966440000000004\n"
     ]
    }
   ],
   "source": [
    "print(f\"Variance: {Variance2(MurderRate)}\")"
   ]
  },
  {
   "cell_type": "code",
   "execution_count": 141,
   "metadata": {},
   "outputs": [
    {
     "name": "stdout",
     "output_type": "stream",
     "text": [
      "Standard_deviation: 1.8964820062420842\n"
     ]
    }
   ],
   "source": [
    "# Độ lệch chuẩn: là căn bậc hai của phương sai, thường được dùng phổ biến nhất nhưng nhạy với giá trị ngoại lệ\n",
    "# required by the Variance\n",
    "import math\n",
    "def Standard_deviation(arr):\n",
    "    return math.sqrt(Variance(arr))\n",
    "\n",
    "print(f\"Standard_deviation: {Standard_deviation(MurderRate)}\")"
   ]
  },
  {
   "cell_type": "code",
   "execution_count": 142,
   "metadata": {},
   "outputs": [
    {
     "name": "stdout",
     "output_type": "stream",
     "text": [
      "MAD2: 1.5999999999999996\n"
     ]
    }
   ],
   "source": [
    "# Median absolute deviation\n",
    "\n",
    "def MAD2(arr):\n",
    "    return Median([abs(x - Median(arr)) for x in arr])\n",
    "\n",
    "print(f\"MAD2: {MAD2(MurderRate)}\")"
   ]
  },
  {
   "cell_type": "markdown",
   "metadata": {},
   "source": [
    "### Inter quartile range"
   ]
  },
  {
   "cell_type": "code",
   "execution_count": 155,
   "metadata": {},
   "outputs": [
    {
     "name": "stdout",
     "output_type": "stream",
     "text": [
      "IQR: 3.1999999999999997\n"
     ]
    }
   ],
   "source": [
    "# Interquartile range\n",
    "\n",
    "def percentile(arr, p):\n",
    "    arr = [abs(x) for x in arr]\n",
    "    arr = sorted(arr)\n",
    "    N = len(arr)\n",
    "    return arr[int(N * p)]\n",
    "\n",
    "def IQR(arr):\n",
    "    arr.sort()\n",
    "    return percentile(arr, 0.75) - percentile(arr, 0.25)\n",
    "\n",
    "print(f\"IQR: {IQR(MurderRate)}\")"
   ]
  },
  {
   "cell_type": "code",
   "execution_count": 153,
   "metadata": {},
   "outputs": [
    {
     "data": {
      "text/plain": [
       "3.125"
      ]
     },
     "execution_count": 153,
     "metadata": {},
     "output_type": "execute_result"
    }
   ],
   "source": [
    "q75, q25 = np.percentile(MurderRate, [75 ,25])\n",
    "iqr = q75 - q25\n",
    "iqr"
   ]
  },
  {
   "cell_type": "code",
   "execution_count": 144,
   "metadata": {},
   "outputs": [
    {
     "data": {
      "text/plain": [
       "3.125"
      ]
     },
     "execution_count": 144,
     "metadata": {},
     "output_type": "execute_result"
    }
   ],
   "source": [
    "from scipy.stats import iqr\n",
    "iqr(MurderRate)"
   ]
  },
  {
   "cell_type": "markdown",
   "metadata": {},
   "source": [
    "## Plot"
   ]
  },
  {
   "cell_type": "code",
   "execution_count": 159,
   "metadata": {},
   "outputs": [],
   "source": [
    "percentiles = [0.05, 0.25, 0.5, 0.75, 0.95]"
   ]
  },
  {
   "cell_type": "code",
   "execution_count": 160,
   "metadata": {},
   "outputs": [
    {
     "data": {
      "text/plain": [
       "[0.91715, 0.98575, 1.0715000000000001, 1.1572500000000001, 1.22585]"
      ]
     },
     "execution_count": 160,
     "metadata": {},
     "output_type": "execute_result"
    }
   ],
   "source": [
    "[np.percentile(MurderRate, p) for p in percentiles]"
   ]
  },
  {
   "cell_type": "code",
   "execution_count": 161,
   "metadata": {},
   "outputs": [
    {
     "data": {
      "text/plain": [
       "[1.6, 2.4, 4.0, 5.6, 6.6]"
      ]
     },
     "execution_count": 161,
     "metadata": {},
     "output_type": "execute_result"
    }
   ],
   "source": [
    "[percentile(MurderRate, p) for p in percentiles]"
   ]
  },
  {
   "cell_type": "code",
   "execution_count": 162,
   "metadata": {},
   "outputs": [],
   "source": [
    "import seaborn as sns"
   ]
  },
  {
   "cell_type": "code",
   "execution_count": 179,
   "metadata": {},
   "outputs": [
    {
     "data": {
      "text/plain": [
       "<AxesSubplot:>"
      ]
     },
     "execution_count": 179,
     "metadata": {},
     "output_type": "execute_result"
    },
    {
     "data": {
      "image/png": "[encoded data removed]",
      "text/plain": [
       "<Figure size 432x288 with 1 Axes>"
      ]
     },
     "metadata": {
      "needs_background": "light"
     },
     "output_type": "display_data"
    }
   ],
   "source": [
    "sns.boxplot(MurderRate)"
   ]
  },
  {
   "cell_type": "code",
   "execution_count": 174,
   "metadata": {},
   "outputs": [
    {
     "data": {
      "text/plain": [
       "<AxesSubplot:>"
      ]
     },
     "execution_count": 174,
     "metadata": {},
     "output_type": "execute_result"
    },
    {
     "data": {
      "image/png": "[encoded data removed]",
      "text/plain": [
       "<Figure size 432x288 with 1 Axes>"
      ]
     },
     "metadata": {
      "needs_background": "light"
     },
     "output_type": "display_data"
    }
   ],
   "source": [
    "sns.regplot(x = [percentile(MurderRate, p) for p in percentiles], y = percentiles)\n",
    "# đây là hàm tích lũy"
   ]
  },
  {
   "cell_type": "code",
   "execution_count": 182,
   "metadata": {},
   "outputs": [
    {
     "data": {
      "text/plain": [
       "{0.9: 1,\n",
       " 1.6: 3,\n",
       " 1.8: 1,\n",
       " 1.9: 1,\n",
       " 2.0: 3,\n",
       " 2.3: 2,\n",
       " 2.4: 2,\n",
       " 2.5: 1,\n",
       " 2.7: 1,\n",
       " 2.8: 1,\n",
       " 2.9: 2,\n",
       " 3.0: 1,\n",
       " 3.1: 2,\n",
       " 3.6: 2,\n",
       " 3.9: 1,\n",
       " 4.0: 2,\n",
       " 4.1: 1,\n",
       " 4.4: 2,\n",
       " 4.5: 1,\n",
       " 4.7: 1,\n",
       " 4.8: 2,\n",
       " 5.0: 1,\n",
       " 5.1: 1,\n",
       " 5.3: 1,\n",
       " 5.4: 1,\n",
       " 5.6: 2,\n",
       " 5.7: 3,\n",
       " 5.8: 2,\n",
       " 6.0: 1,\n",
       " 6.1: 1,\n",
       " 6.4: 1,\n",
       " 6.6: 1,\n",
       " 8.6: 1,\n",
       " 10.3: 1}"
      ]
     },
     "execution_count": 182,
     "metadata": {},
     "output_type": "execute_result"
    }
   ],
   "source": [
    "# Frequency table (bảng tần xuất)\n",
    "\n",
    "def Frequency_table(arr):\n",
    "    freq = {}\n",
    "    for x in arr:\n",
    "        freq[x] = freq.get(x, 0) + 1\n",
    "    return freq\n",
    "\n",
    "Frequency_table(MurderRate)\n"
   ]
  },
  {
   "cell_type": "code",
   "execution_count": 183,
   "metadata": {},
   "outputs": [
    {
     "name": "stderr",
     "output_type": "stream",
     "text": [
      "<ipython-input-183-245265eeda65>:1: UserWarning: \n",
      "\n",
      "`distplot` is a deprecated function and will be removed in seaborn v0.14.0.\n",
      "\n",
      "Please adapt your code to use either `displot` (a figure-level function with\n",
      "similar flexibility) or `histplot` (an axes-level function for histograms).\n",
      "\n",
      "For a guide to updating your code to use the new functions, please see\n",
      "https://gist.github.com/mwaskom/de44147ed2974457ad6372750bbe5751\n",
      "\n",
      "  sns.distplot(MurderRate, bins=10, kde=False)\n"
     ]
    },
    {
     "data": {
      "text/plain": [
       "<AxesSubplot:>"
      ]
     },
     "execution_count": 183,
     "metadata": {},
     "output_type": "execute_result"
    },
    {
     "data": {
      "image/png": "[encoded data removed]",
      "text/plain": [
       "<Figure size 432x288 with 1 Axes>"
      ]
     },
     "metadata": {
      "needs_background": "light"
     },
     "output_type": "display_data"
    }
   ],
   "source": [
    "sns.distplot(MurderRate, bins=10, kde=False)"
   ]
  },
  {
   "cell_type": "code",
   "execution_count": 185,
   "metadata": {},
   "outputs": [
    {
     "name": "stderr",
     "output_type": "stream",
     "text": [
      "<ipython-input-185-eabad54994a4>:1: UserWarning: \n",
      "\n",
      "`distplot` is a deprecated function and will be removed in seaborn v0.14.0.\n",
      "\n",
      "Please adapt your code to use either `displot` (a figure-level function with\n",
      "similar flexibility) or `histplot` (an axes-level function for histograms).\n",
      "\n",
      "For a guide to updating your code to use the new functions, please see\n",
      "https://gist.github.com/mwaskom/de44147ed2974457ad6372750bbe5751\n",
      "\n",
      "  sns.distplot(Population, bins=10, kde=True)\n"
     ]
    },
    {
     "data": {
      "text/plain": [
       "<AxesSubplot:ylabel='Density'>"
      ]
     },
     "execution_count": 185,
     "metadata": {},
     "output_type": "execute_result"
    },
    {
     "data": {
      "image/png": "[encoded data removed]",
      "text/plain": [
       "<Figure size 432x288 with 1 Axes>"
      ]
     },
     "metadata": {
      "needs_background": "light"
     },
     "output_type": "display_data"
    }
   ],
   "source": [
    "sns.distplot(Population, bins=10, kde=True)"
   ]
  },
  {
   "cell_type": "code",
   "execution_count": 187,
   "metadata": {},
   "outputs": [
    {
     "name": "stderr",
     "output_type": "stream",
     "text": [
      "<ipython-input-187-dc32304da0cc>:1: UserWarning: \n",
      "\n",
      "`distplot` is a deprecated function and will be removed in seaborn v0.14.0.\n",
      "\n",
      "Please adapt your code to use either `displot` (a figure-level function with\n",
      "similar flexibility) or `histplot` (an axes-level function for histograms).\n",
      "\n",
      "For a guide to updating your code to use the new functions, please see\n",
      "https://gist.github.com/mwaskom/de44147ed2974457ad6372750bbe5751\n",
      "\n",
      "  sns.distplot(MurderRate, bins=10, kde=True, norm_hist=True)\n"
     ]
    },
    {
     "data": {
      "text/plain": [
       "<AxesSubplot:ylabel='Density'>"
      ]
     },
     "execution_count": 187,
     "metadata": {},
     "output_type": "execute_result"
    },
    {
     "data": {
      "image/png": "[encoded data removed]",
      "text/plain": [
       "<Figure size 432x288 with 1 Axes>"
      ]
     },
     "metadata": {
      "needs_background": "light"
     },
     "output_type": "display_data"
    }
   ],
   "source": [
    "sns.distplot(MurderRate, bins=10, kde=True, norm_hist=True)"
   ]
  },
  {
   "cell_type": "code",
   "execution_count": 186,
   "metadata": {},
   "outputs": [
    {
     "name": "stderr",
     "output_type": "stream",
     "text": [
      "<ipython-input-186-7bd604f003ba>:3: FutureWarning: \n",
      "\n",
      "`shade` is now deprecated in favor of `fill`; setting `fill=True`.\n",
      "This will become an error in seaborn v0.14.0; please update your code.\n",
      "\n",
      "  sns.kdeplot(MurderRate, shade=True)\n"
     ]
    },
    {
     "data": {
      "text/plain": [
       "<AxesSubplot:ylabel='Density'>"
      ]
     },
     "execution_count": 186,
     "metadata": {},
     "output_type": "execute_result"
    },
    {
     "data": {
      "image/png": "[encoded data removed]",
      "text/plain": [
       "<Figure size 432x288 with 1 Axes>"
      ]
     },
     "metadata": {
      "needs_background": "light"
     },
     "output_type": "display_data"
    }
   ],
   "source": [
    "# Density plot (đồ thị mật độ)\n",
    "\n",
    "sns.kdeplot(MurderRate, shade=True)"
   ]
  },
  {
   "cell_type": "code",
   "execution_count": 188,
   "metadata": {},
   "outputs": [],
   "source": [
    "# Tương quan (Correlation)\n",
    "\n",
    "def Correlation(X, Y):\n",
    "    return sum([(x - Mean(X)) * (y - Mean(Y)) for x, y in zip(X, Y)]) / (len(X) - 1) / Standard_deviation(X) / Standard_deviation(Y)"
   ]
  },
  {
   "cell_type": "code",
   "execution_count": 189,
   "metadata": {},
   "outputs": [
    {
     "data": {
      "text/plain": [
       "-0.11171537171064416"
      ]
     },
     "execution_count": 189,
     "metadata": {},
     "output_type": "execute_result"
    }
   ],
   "source": [
    "Correlation(MurderRate, Population)"
   ]
  },
  {
   "cell_type": "code",
   "execution_count": 190,
   "metadata": {},
   "outputs": [
    {
     "data": {
      "text/plain": [
       "0.2682030574024092"
      ]
     },
     "execution_count": 190,
     "metadata": {},
     "output_type": "execute_result"
    }
   ],
   "source": [
    "# Sai số chuẩn (Standard error)\n",
    "\n",
    "def Standard_error(arr):\n",
    "    return Standard_deviation(arr) / math.sqrt(len(arr))\n",
    "\n",
    "Standard_error(MurderRate)"
   ]
  },
  {
   "cell_type": "code",
   "execution_count": 192,
   "metadata": {},
   "outputs": [
    {
     "data": {
      "text/plain": [
       "0.2682030574024092"
      ]
     },
     "execution_count": 192,
     "metadata": {},
     "output_type": "execute_result"
    }
   ],
   "source": [
    "np.array(MurderRate).std() / math.sqrt(len(MurderRate))"
   ]
  },
  {
   "cell_type": "markdown",
   "metadata": {},
   "source": [
    "# Bootstrap Method"
   ]
  },
  {
   "cell_type": "code",
   "execution_count": 193,
   "metadata": {},
   "outputs": [],
   "source": [
    "def bootstrap_method(arr, B=1000):\n",
    "    N = len(arr)\n",
    "    means = []\n",
    "    for i in range(B):\n",
    "        sample = [arr[j] for j in np.random.randint(0, N, N)]\n",
    "        means.append(Mean(sample))\n",
    "    return means\n",
    "\n",
    "bootstrap_means = bootstrap_method(MurderRate)"
   ]
  },
  {
   "cell_type": "code",
   "execution_count": 199,
   "metadata": {},
   "outputs": [
    {
     "name": "stderr",
     "output_type": "stream",
     "text": [
      "<ipython-input-199-302a261f9973>:1: UserWarning: \n",
      "\n",
      "`distplot` is a deprecated function and will be removed in seaborn v0.14.0.\n",
      "\n",
      "Please adapt your code to use either `displot` (a figure-level function with\n",
      "similar flexibility) or `histplot` (an axes-level function for histograms).\n",
      "\n",
      "For a guide to updating your code to use the new functions, please see\n",
      "https://gist.github.com/mwaskom/de44147ed2974457ad6372750bbe5751\n",
      "\n",
      "  sns.distplot(bootstrap_means, bins=30, kde=True)\n"
     ]
    },
    {
     "data": {
      "text/plain": [
       "<AxesSubplot:ylabel='Density'>"
      ]
     },
     "execution_count": 199,
     "metadata": {},
     "output_type": "execute_result"
    },
    {
     "data": {
      "image/png": "[encoded data removed]",
      "text/plain": [
       "<Figure size 432x288 with 1 Axes>"
      ]
     },
     "metadata": {
      "needs_background": "light"
     },
     "output_type": "display_data"
    }
   ],
   "source": [
    "sns.distplot(bootstrap_means, bins=30, kde=True)"
   ]
  },
  {
   "cell_type": "code",
   "execution_count": null,
   "metadata": {},
   "outputs": [],
   "source": []
  }
 ],
 "metadata": {
  "kernelspec": {
   "display_name": "Python 3",
   "language": "python",
   "name": "python3"
  },
  "language_info": {
   "codemirror_mode": {
    "name": "ipython",
    "version": 3
   },
   "file_extension": ".py",
   "mimetype": "text/x-python",
   "name": "python",
   "nbconvert_exporter": "python",
   "pygments_lexer": "ipython3",
   "version": "3.9.0"
  }
 },
 "nbformat": 4,
 "nbformat_minor": 2
}
