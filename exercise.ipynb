{
 "cells": [
  {
   "cell_type": "markdown",
   "metadata": {},
   "source": [
    "# Exercise\n",
    "A group of people is taken and put into an experiment. The aim of this experiment is to measure the pulse rate of people during their actions, depending on whether they consume fat while dieting.\n",
    "\n",
    "· id -> Number of person being tested (1–30)\n",
    "\n",
    "· diet -> How much fat is fed while dieting(no fat,low fat)\n",
    "\n",
    "· pulse -> Person’s heart rate(80–150)\n",
    "\n",
    "· time -> Time elapsed during his/her action\n",
    "\n",
    "· kind -> His/Her situation while being tested"
   ]
  },
  {
   "cell_type": "code",
   "execution_count": 1,
   "metadata": {},
   "outputs": [],
   "source": [
    "import numpy as np\n",
    "import pandas as pd\n",
    "import seaborn as sns\n",
    "import matplotlib.pyplot as plt\n",
    "import warnings\n",
    "plt.style.use('ggplot')\n",
    "# warnings.filterwarnings('ignore')"
   ]
  },
  {
   "cell_type": "code",
   "execution_count": 3,
   "metadata": {},
   "outputs": [],
   "source": [
    "import seaborn as sns\n",
    "exercise = sns.load_dataset(\"exercise\")"
   ]
  }
 ],
 "metadata": {
  "kernelspec": {
   "display_name": "Python 3",
   "language": "python",
   "name": "python3"
  },
  "language_info": {
   "codemirror_mode": {
    "name": "ipython",
    "version": 3
   },
   "file_extension": ".py",
   "mimetype": "text/x-python",
   "name": "python",
   "nbconvert_exporter": "python",
   "pygments_lexer": "ipython3",
   "version": "3.9.0"
  }
 },
 "nbformat": 4,
 "nbformat_minor": 2
}
